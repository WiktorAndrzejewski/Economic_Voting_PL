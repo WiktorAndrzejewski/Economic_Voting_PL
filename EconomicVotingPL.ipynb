{
 "cells": [
  {
   "cell_type": "markdown",
   "id": "97c77a31",
   "metadata": {},
   "source": []
  },
  {
   "cell_type": "markdown",
   "id": "fad449f2",
   "metadata": {},
   "source": [
    "\n"
   ]
  },
  {
   "cell_type": "code",
   "execution_count": null,
   "id": "4f40af5e",
   "metadata": {},
   "outputs": [],
   "source": [
    "The pandas package was imported to clean the data."
   ]
  },
  {
   "cell_type": "code",
   "execution_count": 2,
   "id": "ce827154",
   "metadata": {},
   "outputs": [],
   "source": [
    "import pandas as pd"
   ]
  },
  {
   "cell_type": "markdown",
   "id": "45797ba9",
   "metadata": {},
   "source": [
    "1. Files Unemployed (Bezrobotni) and Average Salary (srednie_wynagrodzenie) was uploaded using read_excel.\n",
    "2. NA values were deleted using dropna.\n",
    "3. Merge Unemployed and Average Salary on Powiat and Rok using outer join.\n",
    "4. Clean the column Powiat (County) deleting prefixex."
   ]
  },
  {
   "cell_type": "code",
   "execution_count": 14,
   "id": "0b5994a8",
   "metadata": {},
   "outputs": [
    {
     "name": "stdout",
     "output_type": "stream",
     "text": [
      "                     Kategoria:  \\\n",
      "1                        Grupa:   \n",
      "3                     Podgrupa:   \n",
      "5  Data ostatniej aktualizacji:   \n",
      "6                      Wymiary:   \n",
      "7                     Przypisy:   \n",
      "\n",
      "  OCHRONA ZDROWIA, OPIEKA SPOŁECZNA I ŚWIADCZENIA NA RZECZ RODZINY  \n",
      "1                                           SZPITALE                \n",
      "3     Łóżka w szpitalach ogólnych i psychiatrycznych                \n",
      "5                                         26.10.2023                \n",
      "6                              Wyszczególnienie; Rok                \n",
      "7  Znak '-' oznacza brak informacji z powodu: zmi...                \n"
     ]
    }
   ],
   "source": [
    "lozka_raw = pd.read_excel('C:/Users/wandrzejew001/Downloads/Liczba_lozek.xlsx')\n",
    "lozka = lozka_raw.dropna(axis = 0)\n",
    "print(lozka)"
   ]
  },
  {
   "cell_type": "code",
   "execution_count": 3,
   "id": "c19fbc87",
   "metadata": {},
   "outputs": [
    {
     "name": "stderr",
     "output_type": "stream",
     "text": [
      "C:\\Users\\wandrzejew001\\AppData\\Local\\Temp\\ipykernel_14008\\250572014.py:9: FutureWarning: The default value of regex will change from True to False in a future version.\n",
      "  dane_ekonomiczne_clean['Powiat'] = dane_ekonomiczne_clean['Powiat'].str.replace('Powiat ', '',).str.replace('m\\. ', '',).str.replace('st.\\. ', '',)\n"
     ]
    }
   ],
   "source": [
    "bezrobotni_a = pd.read_excel('C:/Users/wandrzejew001/Desktop/Dane do pracy/Czynniki ekonomiczne/Bezrobotni/bezrobotni.xlsx')\n",
    "bezrobotni = bezrobotni_a.dropna(axis = 0)\n",
    "\n",
    "srednie_wynagrodzenie_a = pd.read_excel('C:/Users/wandrzejew001/Desktop/Dane do pracy/Czynniki ekonomiczne/Srednie wynagrodzenie/sredniewynagrodzenie.xlsx')\n",
    "srednie_wynagrodzenie = srednie_wynagrodzenie_a.dropna(axis = 0)\n",
    "\n",
    "dane_ekonomiczne_clean = pd.merge(bezrobotni,srednie_wynagrodzenie, on=['Powiat', 'Rok'], how = 'outer')\n",
    "\n",
    "dane_ekonomiczne_clean['Powiat'] = dane_ekonomiczne_clean['Powiat'].str.replace('Powiat ', '',).str.replace('m\\. ', '',).str.replace('st.\\. ', '',)"
   ]
  },
  {
   "cell_type": "markdown",
   "id": "7d717293",
   "metadata": {},
   "source": [
    "1. File wybory_2005_raw with electoral results was updated using read_excel.\n",
    "2. Empty rows were filled with 0 using fillna.\n",
    "3. Clean the column Powiat (County) deleting prefixex.\n",
    "4. New column with Rok (Year) was added.\n",
    "5. Choosing the column for further analysis. \n",
    "6. Unification of parties' names using rename."
   ]
  },
  {
   "cell_type": "code",
   "execution_count": 4,
   "id": "a4924398",
   "metadata": {},
   "outputs": [
    {
     "name": "stderr",
     "output_type": "stream",
     "text": [
      "C:\\Users\\wandrzejew001\\AppData\\Local\\Temp\\ipykernel_14008\\1915775120.py:3: FutureWarning: The default value of regex will change from True to False in a future version.\n",
      "  wybory_2005['Powiat'] = wybory_2005['Powiat'].str.replace('Powiat ', '',).str.replace('m\\. ', '',).str.replace('st.\\. ', '',)\n",
      "C:\\Users\\wandrzejew001\\AppData\\Local\\Temp\\ipykernel_14008\\1915775120.py:7: SettingWithCopyWarning: \n",
      "A value is trying to be set on a copy of a slice from a DataFrame\n",
      "\n",
      "See the caveats in the documentation: https://pandas.pydata.org/pandas-docs/stable/user_guide/indexing.html#returning-a-view-versus-a-copy\n",
      "  wybory_2005_clean.rename(columns={'6 - Prawo i Sprawiedliwość': 'Prawo i Sprawiedliwosc','8 - Platforma Obywatelska': 'Platforma Obywatelska'}, inplace=True)\n"
     ]
    }
   ],
   "source": [
    "wybory_2005_a = pd.read_excel('C:/Users/wandrzejew001/Desktop/Dane do pracy/Dane PKW/Sejm/2005/wybory_2005_raw.xls')\n",
    "wybory_2005 = wybory_2005_a.fillna(0)\n",
    "wybory_2005['Powiat'] = wybory_2005['Powiat'].str.replace('Powiat ', '',).str.replace('m\\. ', '',).str.replace('st.\\. ', '',)\n",
    "wybory_2005['Rok'] = 2005\n",
    "\n",
    "wybory_2005_clean = wybory_2005[['Powiat','Rok','6 - Prawo i Sprawiedliwość','8 - Platforma Obywatelska']]\n",
    "wybory_2005_clean.rename(columns={'6 - Prawo i Sprawiedliwość': 'Prawo i Sprawiedliwosc','8 - Platforma Obywatelska': 'Platforma Obywatelska'}, inplace=True)"
   ]
  },
  {
   "cell_type": "markdown",
   "id": "b37787b2",
   "metadata": {},
   "source": [
    "1. File sejm2007-pow-listy_raw with electoral results was updated using read_excel.\n",
    "2. Empty rows were filled with 0 using fillna.\n",
    "3. Clean the column Powiat (County) deleting prefixex.\n",
    "4. New column with Rok (Year) was added.\n",
    "5. Choosing the column for further analysis. \n",
    "6. Unification of parties' names using rename."
   ]
  },
  {
   "cell_type": "code",
   "execution_count": 5,
   "id": "0c6f5335",
   "metadata": {},
   "outputs": [
    {
     "name": "stderr",
     "output_type": "stream",
     "text": [
      "C:\\Users\\wandrzejew001\\AppData\\Local\\Temp\\ipykernel_14008\\3531856473.py:3: FutureWarning: The default value of regex will change from True to False in a future version.\n",
      "  wybory_2007['Powiat'] = wybory_2007['Powiat'].str.replace('Powiat ', '',).str.replace('m\\. ', '',).str.replace('st.\\. ', '',)\n",
      "C:\\Users\\wandrzejew001\\AppData\\Local\\Temp\\ipykernel_14008\\3531856473.py:6: SettingWithCopyWarning: \n",
      "A value is trying to be set on a copy of a slice from a DataFrame\n",
      "\n",
      "See the caveats in the documentation: https://pandas.pydata.org/pandas-docs/stable/user_guide/indexing.html#returning-a-view-versus-a-copy\n",
      "  wybory_2007_clean.rename(columns={'6 - Prawo i Sprawiedliwość': 'Prawo i Sprawiedliwosc','8 - Platforma Obywatelska': 'Platforma Obywatelska'}, inplace=True)\n"
     ]
    }
   ],
   "source": [
    "wybory_2007_a = pd.read_excel('C:/Users/wandrzejew001/Desktop/Dane do pracy/Dane PKW/Sejm/2007/sejm2007-pow-listy_raw.xls')\n",
    "wybory_2007 = wybory_2007_a.fillna(0)\n",
    "wybory_2007['Powiat'] = wybory_2007['Powiat'].str.replace('Powiat ', '',).str.replace('m\\. ', '',).str.replace('st.\\. ', '',)\n",
    "wybory_2007['Rok'] = 2007\n",
    "wybory_2007_clean = wybory_2007[['Powiat','Rok','6 - Prawo i Sprawiedliwość','8 - Platforma Obywatelska']]\n",
    "wybory_2007_clean.rename(columns={'6 - Prawo i Sprawiedliwość': 'Prawo i Sprawiedliwosc','8 - Platforma Obywatelska': 'Platforma Obywatelska'}, inplace=True)"
   ]
  },
  {
   "cell_type": "markdown",
   "id": "a88ed0a7",
   "metadata": {},
   "source": [
    "1. File 2011-sejm-pow-listy_raw.xls with electoral results was updated using read_excel.\n",
    "2. Empty rows were filled with 0 using fillna.\n",
    "3. Clean the column Powiat (County) deleting prefixex.\n",
    "4. New column with Rok (Year) was added.\n",
    "5. Choosing the column for further analysis. \n",
    "6. Unification of parties' names using rename."
   ]
  },
  {
   "cell_type": "code",
   "execution_count": 6,
   "id": "c55ff44e",
   "metadata": {},
   "outputs": [
    {
     "name": "stderr",
     "output_type": "stream",
     "text": [
      "C:\\Users\\wandrzejew001\\AppData\\Local\\Temp\\ipykernel_14008\\2173002464.py:3: FutureWarning: The default value of regex will change from True to False in a future version.\n",
      "  wybory_2011['Powiat'] = wybory_2011['Powiat'].str.replace('Powiat ', '',).str.replace('m\\. ', '',).str.replace('st.\\. ', '',)\n",
      "C:\\Users\\wandrzejew001\\AppData\\Local\\Temp\\ipykernel_14008\\2173002464.py:7: SettingWithCopyWarning: \n",
      "A value is trying to be set on a copy of a slice from a DataFrame\n",
      "\n",
      "See the caveats in the documentation: https://pandas.pydata.org/pandas-docs/stable/user_guide/indexing.html#returning-a-view-versus-a-copy\n",
      "  wybory_2011_clean.rename(columns={'Komitet Wyborczy Prawo i Sprawiedliwość': 'Prawo i Sprawiedliwosc','Komitet Wyborczy Platforma Obywatelska RP': 'Platforma Obywatelska'}, inplace=True)\n"
     ]
    }
   ],
   "source": [
    "wybory_2011_a = pd.read_excel('C:/Users/wandrzejew001/Desktop/Dane do pracy/Dane PKW/Sejm/2011/2011-sejm-pow-listy_raw.xls')\n",
    "wybory_2011 = wybory_2011_a.fillna(0)\n",
    "wybory_2011['Powiat'] = wybory_2011['Powiat'].str.replace('Powiat ', '',).str.replace('m\\. ', '',).str.replace('st.\\. ', '',)\n",
    "wybory_2011['Rok'] = 2011\n",
    "\n",
    "wybory_2011_clean = wybory_2011[['Powiat','Rok','Komitet Wyborczy Prawo i Sprawiedliwość','Komitet Wyborczy Platforma Obywatelska RP']]\n",
    "wybory_2011_clean.rename(columns={'Komitet Wyborczy Prawo i Sprawiedliwość': 'Prawo i Sprawiedliwosc','Komitet Wyborczy Platforma Obywatelska RP': 'Platforma Obywatelska'}, inplace=True)"
   ]
  },
  {
   "cell_type": "markdown",
   "id": "88f9b4d6",
   "metadata": {},
   "source": [
    "1. File Copy of 2015-gl-lis-pow_raw.xls with electoral results was updated using read_excel.\n",
    "2. Empty rows were filled with 0 using fillna.\n",
    "3. Clean the column Powiat (County) deleting prefixex.\n",
    "4. New column with Rok (Year) was added.\n",
    "5. Choosing the column for further analysis. \n",
    "6. Unification of parties' names using rename."
   ]
  },
  {
   "cell_type": "code",
   "execution_count": 7,
   "id": "4156636d",
   "metadata": {},
   "outputs": [
    {
     "name": "stderr",
     "output_type": "stream",
     "text": [
      "C:\\Users\\wandrzejew001\\AppData\\Local\\Temp\\ipykernel_14008\\91967970.py:3: FutureWarning: The default value of regex will change from True to False in a future version.\n",
      "  wybory_2015['Powiat'] = wybory_2015['Powiat'].str.replace('Powiat ', '',).str.replace('m\\. ', '',).str.replace('st.\\. ', '',)\n",
      "C:\\Users\\wandrzejew001\\AppData\\Local\\Temp\\ipykernel_14008\\91967970.py:8: SettingWithCopyWarning: \n",
      "A value is trying to be set on a copy of a slice from a DataFrame\n",
      "\n",
      "See the caveats in the documentation: https://pandas.pydata.org/pandas-docs/stable/user_guide/indexing.html#returning-a-view-versus-a-copy\n",
      "  wybory_2015_clean.rename(columns={'1 - Komitet Wyborczy Prawo i Sprawiedliwość': 'Prawo i Sprawiedliwosc','2 - Komitet Wyborczy Platforma Obywatelska RP': 'Platforma Obywatelska'}, inplace=True)\n"
     ]
    }
   ],
   "source": [
    "wybory_2015_a = pd.read_excel('C:/Users/wandrzejew001/Desktop/Dane do pracy/Dane PKW/Sejm/2015/Copy of 2015-gl-lis-pow_raw.xls')\n",
    "wybory_2015 = wybory_2015_a.fillna(0)\n",
    "wybory_2015['Powiat'] = wybory_2015['Powiat'].str.replace('Powiat ', '',).str.replace('m\\. ', '',).str.replace('st.\\. ', '',)\n",
    "wybory_2015['Rok'] = 2015\n",
    "\n",
    "\n",
    "wybory_2015_clean = wybory_2015[['Powiat','Rok','1 - Komitet Wyborczy Prawo i Sprawiedliwość','2 - Komitet Wyborczy Platforma Obywatelska RP']]\n",
    "wybory_2015_clean.rename(columns={'1 - Komitet Wyborczy Prawo i Sprawiedliwość': 'Prawo i Sprawiedliwosc','2 - Komitet Wyborczy Platforma Obywatelska RP': 'Platforma Obywatelska'}, inplace=True)"
   ]
  },
  {
   "cell_type": "markdown",
   "id": "dbca070a",
   "metadata": {},
   "source": [
    "1. File wyniki_gl_na_listy_po_powiatach_sejm_raw.xlsx with electoral results was updated using read_excel.\n",
    "2. Empty rows were filled with 0 using fillna.\n",
    "3. Clean the column Powiat (County) deleting prefixex.\n",
    "4. New column with Rok (Year) was added.\n",
    "5. Choosing the column for further analysis. \n",
    "6. Unification of parties' names using rename."
   ]
  },
  {
   "cell_type": "code",
   "execution_count": 8,
   "id": "2100584d",
   "metadata": {},
   "outputs": [
    {
     "name": "stderr",
     "output_type": "stream",
     "text": [
      "C:\\Users\\wandrzejew001\\AppData\\Local\\Temp\\ipykernel_14008\\1150472392.py:3: FutureWarning: The default value of regex will change from True to False in a future version.\n",
      "  wybory_2019['Powiat'] = wybory_2019['Powiat'].str.replace('Powiat ', '',).str.replace('m\\. ', '',)\n",
      "C:\\Users\\wandrzejew001\\AppData\\Local\\Temp\\ipykernel_14008\\1150472392.py:7: SettingWithCopyWarning: \n",
      "A value is trying to be set on a copy of a slice from a DataFrame\n",
      "\n",
      "See the caveats in the documentation: https://pandas.pydata.org/pandas-docs/stable/user_guide/indexing.html#returning-a-view-versus-a-copy\n",
      "  wybory_2019_clean.rename(columns={'KOMITET WYBORCZY PRAWO I SPRAWIEDLIWOŚĆ': 'Prawo i Sprawiedliwosc','KOALICYJNY KOMITET WYBORCZY KOALICJA OBYWATELSKA PO .N IPL ZIELONI': 'Platforma Obywatelska'}, inplace=True)\n"
     ]
    }
   ],
   "source": [
    "wybory_2019_a = pd.read_excel('C:/Users/wandrzejew001/Desktop/Dane do pracy/Dane PKW/Sejm/2019/wyniki_gl_na_listy_po_powiatach_sejm_raw.xlsx')\n",
    "wybory_2019 = wybory_2019_a.fillna(0)\n",
    "wybory_2019['Powiat'] = wybory_2019['Powiat'].str.replace('Powiat ', '',).str.replace('m\\. ', '',)\n",
    "wybory_2019['Rok'] = 2019\n",
    "\n",
    "wybory_2019_clean = wybory_2019[['Powiat','Rok','KOMITET WYBORCZY PRAWO I SPRAWIEDLIWOŚĆ','KOALICYJNY KOMITET WYBORCZY KOALICJA OBYWATELSKA PO .N IPL ZIELONI']]\n",
    "wybory_2019_clean.rename(columns={'KOMITET WYBORCZY PRAWO I SPRAWIEDLIWOŚĆ': 'Prawo i Sprawiedliwosc','KOALICYJNY KOMITET WYBORCZY KOALICJA OBYWATELSKA PO .N IPL ZIELONI': 'Platforma Obywatelska'}, inplace=True)"
   ]
  },
  {
   "cell_type": "markdown",
   "id": "e9061ebc",
   "metadata": {},
   "source": [
    "Concat the data with the results from each year using concat."
   ]
  },
  {
   "cell_type": "code",
   "execution_count": 9,
   "id": "cca21c16",
   "metadata": {},
   "outputs": [],
   "source": [
    "data_frames = [wybory_2005_clean, wybory_2007_clean, wybory_2011_clean, wybory_2015_clean, wybory_2019_clean]\n",
    "\n",
    "wybory = pd.concat(data_frames, axis=0, join='outer', ignore_index=True)"
   ]
  },
  {
   "cell_type": "markdown",
   "id": "ad0e7011",
   "metadata": {},
   "source": [
    "1. Merging the economic data (dane_ekonomiczne_clean) and electoral data (wybory) using outer join.\n",
    "2. Removing years in which there was no election.\n",
    "3. Chosing the columns from the merged dataset."
   ]
  },
  {
   "cell_type": "code",
   "execution_count": 10,
   "id": "7d9ef146",
   "metadata": {},
   "outputs": [],
   "source": [
    "final_merge = pd.merge(dane_ekonomiczne_clean,wybory, on=['Powiat', 'Rok'], how = 'outer')\n",
    "\n",
    "years_to_remove = [2002, 2003, 2004, 2006, 2008, 2009, 2010, 2012, 2013, 2014, 2016, 2017, 2018, 2020, 2021, 2022]\n",
    "final_merge_a = final_merge[~final_merge['Rok'].isin(years_to_remove)]\n",
    "\n",
    "final_merge = final_merge_a[['Rok','Powiat', 'Liczba bezrobotnych','Srednie_wynagrodzenie','Prawo i Sprawiedliwosc','Platforma Obywatelska']]\n",
    "\n"
   ]
  },
  {
   "cell_type": "code",
   "execution_count": 11,
   "id": "57311baa",
   "metadata": {},
   "outputs": [],
   "source": [
    "final_merge.to_excel(\"C:/Users/wandrzejew001/Desktop/Dane do pracy/Panel Data/data.xlsx\")"
   ]
  },
  {
   "cell_type": "code",
   "execution_count": 2,
   "id": "2cfef6d3-7cd9-4af2-8ab0-e12371bea963",
   "metadata": {},
   "outputs": [],
   "source": [
    "library(readxl)\n",
    "bezrobotni_raw <- bezrobotni_raw <- read_xlsx('C:/Users/wandrzejew001/Desktop/Data Analyse Training/Dane do pracy/Czynniki ekonomiczne/Bezrobotni/bezrobotni.xlsx')"
   ]
  }
 ],
 "metadata": {
  "kernelspec": {
   "display_name": "R",
   "language": "R",
   "name": "ir"
  },
  "language_info": {
   "codemirror_mode": "r",
   "file_extension": ".r",
   "mimetype": "text/x-r-source",
   "name": "R",
   "pygments_lexer": "r",
   "version": "3.6.1"
  }
 },
 "nbformat": 4,
 "nbformat_minor": 5
}
